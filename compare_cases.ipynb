{
 "cells": [
  {
   "cell_type": "code",
   "execution_count": 2,
   "id": "bc7eac60-5203-41c4-92c5-7ad31764fd5f",
   "metadata": {},
   "outputs": [],
   "source": [
    "import pypowsybl.network as pn\n",
    "import pypowsybl\n",
    "import jinja2\n",
    "import pandas as pd\n",
    "pd.set_option('mode.chained_assignment', None)"
   ]
  },
  {
   "cell_type": "code",
   "execution_count": 3,
   "id": "0723f174-df19-42c8-85cc-26f5e47aba5d",
   "metadata": {},
   "outputs": [
    {
     "data": {
      "text/plain": [
       "'1.4.2'"
      ]
     },
     "execution_count": 3,
     "metadata": {},
     "output_type": "execute_result"
    }
   ],
   "source": [
    "pd.__version__"
   ]
  },
  {
   "cell_type": "code",
   "execution_count": 4,
   "id": "438c8b88-23f4-4cdd-90a4-604c8981b041",
   "metadata": {},
   "outputs": [],
   "source": [
    "n1 = pn.load('case1/case1.zip')"
   ]
  },
  {
   "cell_type": "code",
   "execution_count": 5,
   "id": "24944b72-09c9-4e8c-a22e-69ee69388878",
   "metadata": {},
   "outputs": [
    {
     "data": {
      "text/html": [
       "<div>\n",
       "<style scoped>\n",
       "    .dataframe tbody tr th:only-of-type {\n",
       "        vertical-align: middle;\n",
       "    }\n",
       "\n",
       "    .dataframe tbody tr th {\n",
       "        vertical-align: top;\n",
       "    }\n",
       "\n",
       "    .dataframe thead th {\n",
       "        text-align: right;\n",
       "    }\n",
       "</style>\n",
       "<table border=\"1\" class=\"dataframe\">\n",
       "  <thead>\n",
       "    <tr style=\"text-align: right;\">\n",
       "      <th></th>\n",
       "      <th>name</th>\n",
       "      <th>r</th>\n",
       "      <th>x</th>\n",
       "      <th>g1</th>\n",
       "      <th>b1</th>\n",
       "      <th>g2</th>\n",
       "      <th>b2</th>\n",
       "      <th>p1</th>\n",
       "      <th>q1</th>\n",
       "      <th>i1</th>\n",
       "      <th>p2</th>\n",
       "      <th>q2</th>\n",
       "      <th>i2</th>\n",
       "      <th>voltage_level1_id</th>\n",
       "      <th>voltage_level2_id</th>\n",
       "      <th>bus1_id</th>\n",
       "      <th>bus2_id</th>\n",
       "      <th>connected1</th>\n",
       "      <th>connected2</th>\n",
       "    </tr>\n",
       "    <tr>\n",
       "      <th>id</th>\n",
       "      <th></th>\n",
       "      <th></th>\n",
       "      <th></th>\n",
       "      <th></th>\n",
       "      <th></th>\n",
       "      <th></th>\n",
       "      <th></th>\n",
       "      <th></th>\n",
       "      <th></th>\n",
       "      <th></th>\n",
       "      <th></th>\n",
       "      <th></th>\n",
       "      <th></th>\n",
       "      <th></th>\n",
       "      <th></th>\n",
       "      <th></th>\n",
       "      <th></th>\n",
       "      <th></th>\n",
       "      <th></th>\n",
       "    </tr>\n",
       "  </thead>\n",
       "  <tbody>\n",
       "    <tr>\n",
       "      <th>L7-8-0</th>\n",
       "      <td>L7-8-0</td>\n",
       "      <td>0.85</td>\n",
       "      <td>7.20</td>\n",
       "      <td>0.0</td>\n",
       "      <td>0.000745</td>\n",
       "      <td>0.0</td>\n",
       "      <td>0.000745</td>\n",
       "      <td>0.0</td>\n",
       "      <td>0.0</td>\n",
       "      <td>0.0</td>\n",
       "      <td>0.0</td>\n",
       "      <td>0.0</td>\n",
       "      <td>0.0</td>\n",
       "      <td>VL2</td>\n",
       "      <td>VL8</td>\n",
       "      <td>VL2_1</td>\n",
       "      <td>VL8_0</td>\n",
       "      <td>True</td>\n",
       "      <td>True</td>\n",
       "    </tr>\n",
       "    <tr>\n",
       "      <th>L9-8-0</th>\n",
       "      <td>L9-8-0</td>\n",
       "      <td>1.19</td>\n",
       "      <td>10.08</td>\n",
       "      <td>0.0</td>\n",
       "      <td>0.001045</td>\n",
       "      <td>0.0</td>\n",
       "      <td>0.001045</td>\n",
       "      <td>0.0</td>\n",
       "      <td>0.0</td>\n",
       "      <td>0.0</td>\n",
       "      <td>0.0</td>\n",
       "      <td>0.0</td>\n",
       "      <td>0.0</td>\n",
       "      <td>VL3</td>\n",
       "      <td>VL8</td>\n",
       "      <td>VL3_1</td>\n",
       "      <td>VL8_0</td>\n",
       "      <td>True</td>\n",
       "      <td>True</td>\n",
       "    </tr>\n",
       "    <tr>\n",
       "      <th>L7-5-0</th>\n",
       "      <td>L7-5-0</td>\n",
       "      <td>3.20</td>\n",
       "      <td>16.10</td>\n",
       "      <td>0.0</td>\n",
       "      <td>0.001530</td>\n",
       "      <td>0.0</td>\n",
       "      <td>0.001530</td>\n",
       "      <td>0.0</td>\n",
       "      <td>0.0</td>\n",
       "      <td>0.0</td>\n",
       "      <td>0.0</td>\n",
       "      <td>0.0</td>\n",
       "      <td>0.0</td>\n",
       "      <td>VL2</td>\n",
       "      <td>VL5</td>\n",
       "      <td>VL2_1</td>\n",
       "      <td>VL5_0</td>\n",
       "      <td>True</td>\n",
       "      <td>True</td>\n",
       "    </tr>\n",
       "  </tbody>\n",
       "</table>\n",
       "</div>"
      ],
      "text/plain": [
       "          name     r      x   g1        b1   g2        b2   p1   q1   i1   p2  \\\n",
       "id                                                                              \n",
       "L7-8-0  L7-8-0  0.85   7.20  0.0  0.000745  0.0  0.000745  0.0  0.0  0.0  0.0   \n",
       "L9-8-0  L9-8-0  1.19  10.08  0.0  0.001045  0.0  0.001045  0.0  0.0  0.0  0.0   \n",
       "L7-5-0  L7-5-0  3.20  16.10  0.0  0.001530  0.0  0.001530  0.0  0.0  0.0  0.0   \n",
       "\n",
       "         q2   i2 voltage_level1_id voltage_level2_id bus1_id bus2_id  \\\n",
       "id                                                                     \n",
       "L7-8-0  0.0  0.0               VL2               VL8   VL2_1   VL8_0   \n",
       "L9-8-0  0.0  0.0               VL3               VL8   VL3_1   VL8_0   \n",
       "L7-5-0  0.0  0.0               VL2               VL5   VL2_1   VL5_0   \n",
       "\n",
       "        connected1  connected2  \n",
       "id                              \n",
       "L7-8-0        True        True  \n",
       "L9-8-0        True        True  \n",
       "L7-5-0        True        True  "
      ]
     },
     "execution_count": 5,
     "metadata": {},
     "output_type": "execute_result"
    }
   ],
   "source": [
    "l1 = n1.get_lines()\n",
    "l1.head(3)"
   ]
  },
  {
   "cell_type": "code",
   "execution_count": 6,
   "id": "5c72d51b-9746-4513-a533-3fbaacfe083d",
   "metadata": {},
   "outputs": [
    {
     "data": {
      "text/html": [
       "<div>\n",
       "<style scoped>\n",
       "    .dataframe tbody tr th:only-of-type {\n",
       "        vertical-align: middle;\n",
       "    }\n",
       "\n",
       "    .dataframe tbody tr th {\n",
       "        vertical-align: top;\n",
       "    }\n",
       "\n",
       "    .dataframe thead th {\n",
       "        text-align: right;\n",
       "    }\n",
       "</style>\n",
       "<table border=\"1\" class=\"dataframe\">\n",
       "  <thead>\n",
       "    <tr style=\"text-align: right;\">\n",
       "      <th></th>\n",
       "      <th>name</th>\n",
       "      <th>r</th>\n",
       "      <th>x</th>\n",
       "      <th>g1</th>\n",
       "      <th>b1</th>\n",
       "      <th>g2</th>\n",
       "      <th>b2</th>\n",
       "      <th>p1</th>\n",
       "      <th>q1</th>\n",
       "      <th>i1</th>\n",
       "      <th>p2</th>\n",
       "      <th>q2</th>\n",
       "      <th>i2</th>\n",
       "      <th>voltage_level1_id</th>\n",
       "      <th>voltage_level2_id</th>\n",
       "      <th>bus1_id</th>\n",
       "      <th>bus2_id</th>\n",
       "      <th>connected1</th>\n",
       "      <th>connected2</th>\n",
       "    </tr>\n",
       "    <tr>\n",
       "      <th>id</th>\n",
       "      <th></th>\n",
       "      <th></th>\n",
       "      <th></th>\n",
       "      <th></th>\n",
       "      <th></th>\n",
       "      <th></th>\n",
       "      <th></th>\n",
       "      <th></th>\n",
       "      <th></th>\n",
       "      <th></th>\n",
       "      <th></th>\n",
       "      <th></th>\n",
       "      <th></th>\n",
       "      <th></th>\n",
       "      <th></th>\n",
       "      <th></th>\n",
       "      <th></th>\n",
       "      <th></th>\n",
       "      <th></th>\n",
       "    </tr>\n",
       "  </thead>\n",
       "  <tbody>\n",
       "    <tr>\n",
       "      <th>L7-8-0</th>\n",
       "      <td>L7-8-0</td>\n",
       "      <td>3.14</td>\n",
       "      <td>1.59</td>\n",
       "      <td>0.0</td>\n",
       "      <td>0.000745</td>\n",
       "      <td>0.0</td>\n",
       "      <td>0.000745</td>\n",
       "      <td>0.0</td>\n",
       "      <td>0.0</td>\n",
       "      <td>0.0</td>\n",
       "      <td>0.0</td>\n",
       "      <td>0.0</td>\n",
       "      <td>0.0</td>\n",
       "      <td>VL2</td>\n",
       "      <td>VL8</td>\n",
       "      <td>VL2_1</td>\n",
       "      <td>VL8_0</td>\n",
       "      <td>True</td>\n",
       "      <td>True</td>\n",
       "    </tr>\n",
       "    <tr>\n",
       "      <th>L7-5-0</th>\n",
       "      <td>L7-5-0</td>\n",
       "      <td>3.20</td>\n",
       "      <td>16.10</td>\n",
       "      <td>0.0</td>\n",
       "      <td>0.001530</td>\n",
       "      <td>0.0</td>\n",
       "      <td>0.001530</td>\n",
       "      <td>0.0</td>\n",
       "      <td>0.0</td>\n",
       "      <td>0.0</td>\n",
       "      <td>0.0</td>\n",
       "      <td>0.0</td>\n",
       "      <td>0.0</td>\n",
       "      <td>VL2</td>\n",
       "      <td>VL5</td>\n",
       "      <td>VL2_1</td>\n",
       "      <td>VL5_0</td>\n",
       "      <td>True</td>\n",
       "      <td>True</td>\n",
       "    </tr>\n",
       "    <tr>\n",
       "      <th>L9-6-0</th>\n",
       "      <td>L9-6-0</td>\n",
       "      <td>3.90</td>\n",
       "      <td>17.00</td>\n",
       "      <td>0.0</td>\n",
       "      <td>0.001790</td>\n",
       "      <td>0.0</td>\n",
       "      <td>0.001790</td>\n",
       "      <td>0.0</td>\n",
       "      <td>0.0</td>\n",
       "      <td>0.0</td>\n",
       "      <td>0.0</td>\n",
       "      <td>0.0</td>\n",
       "      <td>0.0</td>\n",
       "      <td>VL3</td>\n",
       "      <td>VL6</td>\n",
       "      <td>VL3_1</td>\n",
       "      <td>VL6_0</td>\n",
       "      <td>True</td>\n",
       "      <td>True</td>\n",
       "    </tr>\n",
       "  </tbody>\n",
       "</table>\n",
       "</div>"
      ],
      "text/plain": [
       "          name     r      x   g1        b1   g2        b2   p1   q1   i1   p2  \\\n",
       "id                                                                              \n",
       "L7-8-0  L7-8-0  3.14   1.59  0.0  0.000745  0.0  0.000745  0.0  0.0  0.0  0.0   \n",
       "L7-5-0  L7-5-0  3.20  16.10  0.0  0.001530  0.0  0.001530  0.0  0.0  0.0  0.0   \n",
       "L9-6-0  L9-6-0  3.90  17.00  0.0  0.001790  0.0  0.001790  0.0  0.0  0.0  0.0   \n",
       "\n",
       "         q2   i2 voltage_level1_id voltage_level2_id bus1_id bus2_id  \\\n",
       "id                                                                     \n",
       "L7-8-0  0.0  0.0               VL2               VL8   VL2_1   VL8_0   \n",
       "L7-5-0  0.0  0.0               VL2               VL5   VL2_1   VL5_0   \n",
       "L9-6-0  0.0  0.0               VL3               VL6   VL3_1   VL6_0   \n",
       "\n",
       "        connected1  connected2  \n",
       "id                              \n",
       "L7-8-0        True        True  \n",
       "L7-5-0        True        True  \n",
       "L9-6-0        True        True  "
      ]
     },
     "execution_count": 6,
     "metadata": {},
     "output_type": "execute_result"
    }
   ],
   "source": [
    "n2 = pn.load('case2/case2.zip')\n",
    "l2 = n2.get_lines()\n",
    "l2.head(3)"
   ]
  },
  {
   "cell_type": "code",
   "execution_count": 7,
   "id": "e2254649-1230-4c30-aec0-4307bbd40903",
   "metadata": {},
   "outputs": [],
   "source": [
    "cols = ['name', 'r', 'x', 'b1', 'b2', 'bus1_id', 'bus2_id']\n",
    "l1 = l1[cols]\n",
    "l2 = l2[cols]"
   ]
  },
  {
   "cell_type": "code",
   "execution_count": 8,
   "id": "c30324c1-b27d-495d-8142-f12ab2aa7d97",
   "metadata": {},
   "outputs": [],
   "source": [
    "# Compare only works on changes - not on add/removes\n",
    "# lc = pd.DataFrame.compare(l1, l2) # After 1.5 use the kwarg result_names\n",
    "# lc = lc.rename(columns={'self': 'orig', 'other': 'new'}, level=1)"
   ]
  },
  {
   "cell_type": "code",
   "execution_count": 9,
   "id": "135b34ba-b7a7-43da-ac71-bf86e6ee1110",
   "metadata": {},
   "outputs": [],
   "source": [
    "# New Branches\n",
    "mask_new = ~l2['name'].isin(l1['name'])\n",
    "mask_delete = ~l1['name'].isin(l2['name'])"
   ]
  },
  {
   "cell_type": "code",
   "execution_count": 10,
   "id": "2c3f902a-cc98-4bf1-bfaf-8fa7d5c27d44",
   "metadata": {},
   "outputs": [
    {
     "name": "stdout",
     "output_type": "stream",
     "text": [
      "New Branches\n",
      "Empty DataFrame\n",
      "Columns: [name, r, x, b1, b2, bus1_id, bus2_id]\n",
      "Index: []\n"
     ]
    }
   ],
   "source": [
    "print(\"New Branches\")\n",
    "print(l2[mask_new])"
   ]
  },
  {
   "cell_type": "code",
   "execution_count": 11,
   "id": "45aa46cb-5d87-41b3-b036-d5ab632d432b",
   "metadata": {},
   "outputs": [
    {
     "name": "stdout",
     "output_type": "stream",
     "text": [
      "Deleted Branches\n",
      "          name     r      x        b1        b2 bus1_id bus2_id\n",
      "id                                                             \n",
      "L9-8-0  L9-8-0  1.19  10.08  0.001045  0.001045   VL3_1   VL8_0\n"
     ]
    }
   ],
   "source": [
    "print(\"Deleted Branches\")\n",
    "print(l1[mask_delete])"
   ]
  },
  {
   "cell_type": "code",
   "execution_count": 12,
   "id": "3ff379fc-1ba9-45f7-aa24-6c70ed7d6315",
   "metadata": {},
   "outputs": [
    {
     "name": "stdout",
     "output_type": "stream",
     "text": [
      "Index(['L7-8-0'], dtype='object', name='id')\n"
     ]
    }
   ],
   "source": [
    "# Might be bigO slow\n",
    "l1_same = l1[l1['name'].isin(l2['name'])]\n",
    "l2_same = l2[l2['name'].isin(l1['name'])]\n",
    "lc = pd.DataFrame.compare(l1_same, l2_same, keep_shape=False, keep_equal=False) # After 1.5 use the kwarg result_names\n",
    "lc = lc.rename(columns={'self': 'orig', 'other': 'new'}, level=1)\n",
    "changed_ids = lc.index\n",
    "print(changed_ids)"
   ]
  },
  {
   "cell_type": "code",
   "execution_count": 13,
   "id": "6fadeb30-068c-47f8-bd3c-9cb66a59a4c3",
   "metadata": {},
   "outputs": [
    {
     "name": "stdout",
     "output_type": "stream",
     "text": [
      "Changed Branches\n"
     ]
    },
    {
     "data": {
      "text/html": [
       "<div>\n",
       "<style scoped>\n",
       "    .dataframe tbody tr th:only-of-type {\n",
       "        vertical-align: middle;\n",
       "    }\n",
       "\n",
       "    .dataframe tbody tr th {\n",
       "        vertical-align: top;\n",
       "    }\n",
       "\n",
       "    .dataframe thead th {\n",
       "        text-align: right;\n",
       "    }\n",
       "</style>\n",
       "<table border=\"1\" class=\"dataframe\">\n",
       "  <thead>\n",
       "    <tr style=\"text-align: right;\">\n",
       "      <th></th>\n",
       "      <th></th>\n",
       "      <th>name</th>\n",
       "      <th>r</th>\n",
       "      <th>x</th>\n",
       "      <th>b1</th>\n",
       "      <th>b2</th>\n",
       "      <th>bus1_id</th>\n",
       "      <th>bus2_id</th>\n",
       "    </tr>\n",
       "    <tr>\n",
       "      <th>id</th>\n",
       "      <th>source</th>\n",
       "      <th></th>\n",
       "      <th></th>\n",
       "      <th></th>\n",
       "      <th></th>\n",
       "      <th></th>\n",
       "      <th></th>\n",
       "      <th></th>\n",
       "    </tr>\n",
       "  </thead>\n",
       "  <tbody>\n",
       "    <tr>\n",
       "      <th rowspan=\"2\" valign=\"top\">L7-8-0</th>\n",
       "      <th>orig</th>\n",
       "      <td>L7-8-0</td>\n",
       "      <td>0.85</td>\n",
       "      <td>7.20</td>\n",
       "      <td>0.000745</td>\n",
       "      <td>0.000745</td>\n",
       "      <td>VL2_1</td>\n",
       "      <td>VL8_0</td>\n",
       "    </tr>\n",
       "    <tr>\n",
       "      <th>new</th>\n",
       "      <td>L7-8-0</td>\n",
       "      <td>3.14</td>\n",
       "      <td>1.59</td>\n",
       "      <td>0.000745</td>\n",
       "      <td>0.000745</td>\n",
       "      <td>VL2_1</td>\n",
       "      <td>VL8_0</td>\n",
       "    </tr>\n",
       "  </tbody>\n",
       "</table>\n",
       "</div>"
      ],
      "text/plain": [
       "                 name     r     x        b1        b2 bus1_id bus2_id\n",
       "id     source                                                        \n",
       "L7-8-0 orig    L7-8-0  0.85  7.20  0.000745  0.000745   VL2_1   VL8_0\n",
       "       new     L7-8-0  3.14  1.59  0.000745  0.000745   VL2_1   VL8_0"
      ]
     },
     "execution_count": 13,
     "metadata": {},
     "output_type": "execute_result"
    }
   ],
   "source": [
    "print(\"Changed Branches\")\n",
    "l1_same = l1_same.loc[changed_ids]\n",
    "l2_same = l2_same.loc[changed_ids]\n",
    "l1_same['source'] = 'orig'\n",
    "l2_same['source'] = 'new'\n",
    "\n",
    "l1_same\n",
    "mm = pd.concat([l1_same, l2_same])\n",
    "mm = mm.set_index('source', append=True)\n",
    "# mm.sort_index('source')\n",
    "mm"
   ]
  },
  {
   "cell_type": "markdown",
   "id": "3075d796-9107-4544-955b-8969c37ab73e",
   "metadata": {},
   "source": [
    "## Draw changes"
   ]
  },
  {
   "cell_type": "code",
   "execution_count": 14,
   "id": "34f29a0d-047d-499d-b100-f6c8b80805b3",
   "metadata": {},
   "outputs": [
    {
     "name": "stdout",
     "output_type": "stream",
     "text": [
      "busses_touched (duplicates): ['VL3_1', 'VL8_0', 'VL2_1', 'VL2_1', 'VL8_0', 'VL8_0']\n",
      "busses_touched (unique): ['VL3_1', 'VL8_0', 'VL2_1']\n"
     ]
    }
   ],
   "source": [
    "busses_touched = []\n",
    "busses_touched.extend(l1[mask_delete]['bus1_id'].tolist())\n",
    "busses_touched.extend(l1[mask_delete]['bus2_id'].tolist())\n",
    "busses_touched.extend(l2[mask_new]['bus1_id'].tolist())\n",
    "busses_touched.extend(l2[mask_new]['bus2_id'].tolist())\n",
    "busses_touched.extend(mm['bus1_id'].tolist())\n",
    "busses_touched.extend(mm['bus2_id'].tolist())\n",
    "print(f\"busses_touched (duplicates): {busses_touched}\")\n",
    "busses_touched = pd.Series(busses_touched).unique().tolist()\n",
    "print(f\"busses_touched (unique): {busses_touched}\")"
   ]
  },
  {
   "cell_type": "code",
   "execution_count": 15,
   "id": "ecca356c-4880-462c-922d-36588eb4ebb5",
   "metadata": {},
   "outputs": [],
   "source": [
    "# n1_voltage_levels.head(3)\n",
    "# n1_busses\n",
    "# n1_substations.head(3)"
   ]
  },
  {
   "cell_type": "code",
   "execution_count": 16,
   "id": "05c409b3-ebd4-436f-abb1-c73e729d01d9",
   "metadata": {},
   "outputs": [],
   "source": [
    "n1_busses = n1.get_buses(all_attributes=True)\n",
    "n1_voltage_levels = n1.get_voltage_levels(all_attributes=True)\n",
    "n1_substations = n1.get_substations(all_attributes=True)"
   ]
  },
  {
   "cell_type": "code",
   "execution_count": 17,
   "id": "941dee5d-2ccb-4175-88b8-eae3ed87280b",
   "metadata": {},
   "outputs": [],
   "source": [
    "n1_drawme_vls = n1_voltage_levels.loc[n1_busses.loc[busses_touched]['voltage_level_id']]\n",
    "n1_drawme_substation = n1_substations.loc[n1_drawme_vls['substation_id']]"
   ]
  },
  {
   "cell_type": "code",
   "execution_count": 18,
   "id": "9bf2d843-55fb-461e-80fa-06f4b24fe243",
   "metadata": {},
   "outputs": [
    {
     "data": {
      "text/plain": [
       "[{'substation_id': 'S3', 'substation_name': 'S3', 'svg': 'case1_S3.svg'},\n",
       " {'substation_id': 'S8', 'substation_name': 'S8', 'svg': 'case1_S8.svg'},\n",
       " {'substation_id': 'S2', 'substation_name': 'S2', 'svg': 'case1_S2.svg'}]"
      ]
     },
     "execution_count": 18,
     "metadata": {},
     "output_type": "execute_result"
    }
   ],
   "source": [
    "case1_station_changes = []\n",
    "for substation in n1_drawme_substation.reset_index().to_dict(orient='records'):\n",
    "    dd = {}\n",
    "    dd['substation_id'] = substation['id']\n",
    "    dd['substation_name'] = substation['name']\n",
    "    svg = 'case1_{}.svg'.format(substation['name'])\n",
    "    dd['svg'] = svg\n",
    "    case1_station_changes.append(dd.copy())\n",
    "case1_station_changes"
   ]
  },
  {
   "cell_type": "code",
   "execution_count": 19,
   "id": "5e58ec8e-8dc4-4b6d-825b-7402cb1e960d",
   "metadata": {},
   "outputs": [],
   "source": [
    "for sc in case1_station_changes:\n",
    "    n1.write_single_line_diagram_svg(sc['substation_id'], sc['svg'])\n",
    "case1_area_changes = 'case1_area_changes.svg'    \n",
    "n1.write_network_area_diagram_svg(case1_area_changes, n1_drawme_vls.index.tolist())"
   ]
  },
  {
   "cell_type": "code",
   "execution_count": 20,
   "id": "52d6d1ec-0f8d-4728-bfad-87df5be3419b",
   "metadata": {},
   "outputs": [],
   "source": [
    "n2_busses = n2.get_buses(all_attributes=True)\n",
    "n2_voltage_levels = n2.get_voltage_levels(all_attributes=True)\n",
    "n2_substations = n2.get_substations(all_attributes=True)"
   ]
  },
  {
   "cell_type": "code",
   "execution_count": null,
   "id": "8b7693bd-5a56-441a-9c99-545f25812dbd",
   "metadata": {},
   "outputs": [],
   "source": []
  },
  {
   "cell_type": "code",
   "execution_count": 21,
   "id": "70988f5d-9a34-42db-97aa-be21090e00f6",
   "metadata": {},
   "outputs": [
    {
     "data": {
      "text/html": [
       "<div>\n",
       "<style scoped>\n",
       "    .dataframe tbody tr th:only-of-type {\n",
       "        vertical-align: middle;\n",
       "    }\n",
       "\n",
       "    .dataframe tbody tr th {\n",
       "        vertical-align: top;\n",
       "    }\n",
       "\n",
       "    .dataframe thead th {\n",
       "        text-align: right;\n",
       "    }\n",
       "</style>\n",
       "<table border=\"1\" class=\"dataframe\">\n",
       "  <thead>\n",
       "    <tr style=\"text-align: right;\">\n",
       "      <th></th>\n",
       "      <th>name</th>\n",
       "      <th>v_mag</th>\n",
       "      <th>v_angle</th>\n",
       "      <th>connected_component</th>\n",
       "      <th>synchronous_component</th>\n",
       "      <th>voltage_level_id</th>\n",
       "      <th>fictitious</th>\n",
       "    </tr>\n",
       "    <tr>\n",
       "      <th>id</th>\n",
       "      <th></th>\n",
       "      <th></th>\n",
       "      <th></th>\n",
       "      <th></th>\n",
       "      <th></th>\n",
       "      <th></th>\n",
       "      <th></th>\n",
       "    </tr>\n",
       "  </thead>\n",
       "  <tbody>\n",
       "    <tr>\n",
       "      <th>VL1_0</th>\n",
       "      <td>VL1_0</td>\n",
       "      <td>104.0</td>\n",
       "      <td>0.0</td>\n",
       "      <td>0</td>\n",
       "      <td>0</td>\n",
       "      <td>VL1</td>\n",
       "      <td>False</td>\n",
       "    </tr>\n",
       "  </tbody>\n",
       "</table>\n",
       "</div>"
      ],
      "text/plain": [
       "        name  v_mag  v_angle  connected_component  synchronous_component  \\\n",
       "id                                                                         \n",
       "VL1_0  VL1_0  104.0      0.0                    0                      0   \n",
       "\n",
       "      voltage_level_id  fictitious  \n",
       "id                                  \n",
       "VL1_0              VL1       False  "
      ]
     },
     "execution_count": 21,
     "metadata": {},
     "output_type": "execute_result"
    }
   ],
   "source": [
    "n2_busses.head(1)"
   ]
  },
  {
   "cell_type": "code",
   "execution_count": 22,
   "id": "60fb99d4-a677-4abf-8481-5d9c304793a6",
   "metadata": {},
   "outputs": [
    {
     "data": {
      "text/html": [
       "<div>\n",
       "<style scoped>\n",
       "    .dataframe tbody tr th:only-of-type {\n",
       "        vertical-align: middle;\n",
       "    }\n",
       "\n",
       "    .dataframe tbody tr th {\n",
       "        vertical-align: top;\n",
       "    }\n",
       "\n",
       "    .dataframe thead th {\n",
       "        text-align: right;\n",
       "    }\n",
       "</style>\n",
       "<table border=\"1\" class=\"dataframe\">\n",
       "  <thead>\n",
       "    <tr style=\"text-align: right;\">\n",
       "      <th></th>\n",
       "      <th>name</th>\n",
       "      <th>substation_id</th>\n",
       "      <th>nominal_v</th>\n",
       "      <th>high_voltage_limit</th>\n",
       "      <th>low_voltage_limit</th>\n",
       "      <th>fictitious</th>\n",
       "      <th>topology_kind</th>\n",
       "    </tr>\n",
       "    <tr>\n",
       "      <th>id</th>\n",
       "      <th></th>\n",
       "      <th></th>\n",
       "      <th></th>\n",
       "      <th></th>\n",
       "      <th></th>\n",
       "      <th></th>\n",
       "      <th></th>\n",
       "    </tr>\n",
       "  </thead>\n",
       "  <tbody>\n",
       "    <tr>\n",
       "      <th>VL3</th>\n",
       "      <td>VL3</td>\n",
       "      <td>S3</td>\n",
       "      <td>100.0</td>\n",
       "      <td>NaN</td>\n",
       "      <td>NaN</td>\n",
       "      <td>False</td>\n",
       "      <td>BUS_BREAKER</td>\n",
       "    </tr>\n",
       "    <tr>\n",
       "      <th>VL8</th>\n",
       "      <td>VL8</td>\n",
       "      <td>S8</td>\n",
       "      <td>100.0</td>\n",
       "      <td>NaN</td>\n",
       "      <td>NaN</td>\n",
       "      <td>False</td>\n",
       "      <td>BUS_BREAKER</td>\n",
       "    </tr>\n",
       "    <tr>\n",
       "      <th>VL2</th>\n",
       "      <td>VL2</td>\n",
       "      <td>S2</td>\n",
       "      <td>100.0</td>\n",
       "      <td>NaN</td>\n",
       "      <td>NaN</td>\n",
       "      <td>False</td>\n",
       "      <td>BUS_BREAKER</td>\n",
       "    </tr>\n",
       "  </tbody>\n",
       "</table>\n",
       "</div>"
      ],
      "text/plain": [
       "    name substation_id  nominal_v  high_voltage_limit  low_voltage_limit  \\\n",
       "id                                                                         \n",
       "VL3  VL3            S3      100.0                 NaN                NaN   \n",
       "VL8  VL8            S8      100.0                 NaN                NaN   \n",
       "VL2  VL2            S2      100.0                 NaN                NaN   \n",
       "\n",
       "     fictitious topology_kind  \n",
       "id                             \n",
       "VL3       False   BUS_BREAKER  \n",
       "VL8       False   BUS_BREAKER  \n",
       "VL2       False   BUS_BREAKER  "
      ]
     },
     "execution_count": 22,
     "metadata": {},
     "output_type": "execute_result"
    }
   ],
   "source": [
    "n2_drawme_vls = n2_voltage_levels.loc[n2_busses.loc[busses_touched]['voltage_level_id']]\n",
    "n2_drawme_vls"
   ]
  },
  {
   "cell_type": "code",
   "execution_count": 23,
   "id": "4b961943-2ace-47c9-b554-a60a680c1430",
   "metadata": {},
   "outputs": [
    {
     "data": {
      "text/html": [
       "<div>\n",
       "<style scoped>\n",
       "    .dataframe tbody tr th:only-of-type {\n",
       "        vertical-align: middle;\n",
       "    }\n",
       "\n",
       "    .dataframe tbody tr th {\n",
       "        vertical-align: top;\n",
       "    }\n",
       "\n",
       "    .dataframe thead th {\n",
       "        text-align: right;\n",
       "    }\n",
       "</style>\n",
       "<table border=\"1\" class=\"dataframe\">\n",
       "  <thead>\n",
       "    <tr style=\"text-align: right;\">\n",
       "      <th></th>\n",
       "      <th>name</th>\n",
       "      <th>TSO</th>\n",
       "      <th>geo_tags</th>\n",
       "      <th>country</th>\n",
       "      <th>fictitious</th>\n",
       "      <th>CGMES.regionName</th>\n",
       "      <th>CGMES.subRegionId</th>\n",
       "      <th>CGMES.regionId</th>\n",
       "    </tr>\n",
       "    <tr>\n",
       "      <th>id</th>\n",
       "      <th></th>\n",
       "      <th></th>\n",
       "      <th></th>\n",
       "      <th></th>\n",
       "      <th></th>\n",
       "      <th></th>\n",
       "      <th></th>\n",
       "      <th></th>\n",
       "    </tr>\n",
       "  </thead>\n",
       "  <tbody>\n",
       "    <tr>\n",
       "      <th>S3</th>\n",
       "      <td>S3</td>\n",
       "      <td></td>\n",
       "      <td>default region</td>\n",
       "      <td></td>\n",
       "      <td>False</td>\n",
       "      <td>default region</td>\n",
       "      <td>09655630-f880-43ab-a104-3b37624d45fa</td>\n",
       "      <td>195fe606-d48f-4d53-8279-e7c0b317ef4b</td>\n",
       "    </tr>\n",
       "    <tr>\n",
       "      <th>S8</th>\n",
       "      <td>S8</td>\n",
       "      <td></td>\n",
       "      <td>default region</td>\n",
       "      <td></td>\n",
       "      <td>False</td>\n",
       "      <td>default region</td>\n",
       "      <td>09655630-f880-43ab-a104-3b37624d45fa</td>\n",
       "      <td>195fe606-d48f-4d53-8279-e7c0b317ef4b</td>\n",
       "    </tr>\n",
       "    <tr>\n",
       "      <th>S2</th>\n",
       "      <td>S2</td>\n",
       "      <td></td>\n",
       "      <td>default region</td>\n",
       "      <td></td>\n",
       "      <td>False</td>\n",
       "      <td>default region</td>\n",
       "      <td>09655630-f880-43ab-a104-3b37624d45fa</td>\n",
       "      <td>195fe606-d48f-4d53-8279-e7c0b317ef4b</td>\n",
       "    </tr>\n",
       "  </tbody>\n",
       "</table>\n",
       "</div>"
      ],
      "text/plain": [
       "   name TSO        geo_tags country  fictitious CGMES.regionName  \\\n",
       "id                                                                 \n",
       "S3   S3      default region               False   default region   \n",
       "S8   S8      default region               False   default region   \n",
       "S2   S2      default region               False   default region   \n",
       "\n",
       "                       CGMES.subRegionId                        CGMES.regionId  \n",
       "id                                                                              \n",
       "S3  09655630-f880-43ab-a104-3b37624d45fa  195fe606-d48f-4d53-8279-e7c0b317ef4b  \n",
       "S8  09655630-f880-43ab-a104-3b37624d45fa  195fe606-d48f-4d53-8279-e7c0b317ef4b  \n",
       "S2  09655630-f880-43ab-a104-3b37624d45fa  195fe606-d48f-4d53-8279-e7c0b317ef4b  "
      ]
     },
     "execution_count": 23,
     "metadata": {},
     "output_type": "execute_result"
    }
   ],
   "source": [
    "n2_drawme_substation = n2_substations.loc[n2_drawme_vls['substation_id']]\n",
    "n2_drawme_substation"
   ]
  },
  {
   "cell_type": "code",
   "execution_count": 24,
   "id": "9733079f-e901-4902-8e56-062cc68fbe03",
   "metadata": {},
   "outputs": [
    {
     "data": {
      "text/plain": [
       "[{'substation_id': 'S3', 'substation_name': 'S3', 'svg': 'case2_S3.svg'},\n",
       " {'substation_id': 'S8', 'substation_name': 'S8', 'svg': 'case2_S8.svg'},\n",
       " {'substation_id': 'S2', 'substation_name': 'S2', 'svg': 'case2_S2.svg'}]"
      ]
     },
     "execution_count": 24,
     "metadata": {},
     "output_type": "execute_result"
    }
   ],
   "source": [
    "case2_station_changes = []\n",
    "for substation in n2_drawme_substation.reset_index().to_dict(orient='records'):\n",
    "    dd = {}\n",
    "    dd['substation_id'] = substation['id']\n",
    "    dd['substation_name'] = substation['name']\n",
    "    svg = 'case2_{}.svg'.format(substation['name'])\n",
    "    dd['svg'] = svg\n",
    "    case2_station_changes.append(dd.copy())\n",
    "case2_station_changes"
   ]
  },
  {
   "cell_type": "code",
   "execution_count": 25,
   "id": "5b4bcd38-c17a-4a04-9167-45176ddd74f1",
   "metadata": {},
   "outputs": [],
   "source": [
    "for sc in case2_station_changes:\n",
    "    n2.write_single_line_diagram_svg(sc['substation_id'], sc['svg'])\n",
    "case2_area_changes = 'case2_area_changes.svg'\n",
    "n2.write_network_area_diagram_svg(case2_area_changes, n2_drawme_vls.index.tolist())"
   ]
  },
  {
   "cell_type": "code",
   "execution_count": null,
   "id": "dc99761a-ff3a-4f73-85d6-5b7a8087ae61",
   "metadata": {},
   "outputs": [],
   "source": [
    "station_changes = "
   ]
  },
  {
   "cell_type": "code",
   "execution_count": 26,
   "id": "74673fd1-ec2c-4aa4-86dd-ebde7beddb95",
   "metadata": {},
   "outputs": [],
   "source": [
    "with open('template.html', 'r') as f:\n",
    "    template_string = f.read()\n",
    "template = jinja2.Template(template_string)\n",
    "context = {'case1_area_changes': case1_area_changes, 'case2_area_changes': case2_area_changes,\n",
    "          'case1_station_changes': case1_station_changes, 'case2_station_changes': case2_station_changes}\n",
    "html = template.render(context)\n",
    "\n",
    "with open('compare_report.html', 'w') as f: \n",
    "    f.write(html)"
   ]
  },
  {
   "cell_type": "code",
   "execution_count": null,
   "id": "997b5af5-a2dd-432e-85fd-165904e54087",
   "metadata": {},
   "outputs": [],
   "source": []
  }
 ],
 "metadata": {
  "kernelspec": {
   "display_name": "Python 3 (ipykernel)",
   "language": "python",
   "name": "python3"
  },
  "language_info": {
   "codemirror_mode": {
    "name": "ipython",
    "version": 3
   },
   "file_extension": ".py",
   "mimetype": "text/x-python",
   "name": "python",
   "nbconvert_exporter": "python",
   "pygments_lexer": "ipython3",
   "version": "3.9.12"
  }
 },
 "nbformat": 4,
 "nbformat_minor": 5
}
